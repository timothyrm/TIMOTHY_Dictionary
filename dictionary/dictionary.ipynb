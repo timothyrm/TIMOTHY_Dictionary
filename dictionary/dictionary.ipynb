{
 "metadata": {
  "language_info": {
   "codemirror_mode": {
    "name": "ipython",
    "version": 3
   },
   "file_extension": ".py",
   "mimetype": "text/x-python",
   "name": "python",
   "nbconvert_exporter": "python",
   "pygments_lexer": "ipython3",
   "version": "3.8.3-final"
  },
  "orig_nbformat": 2,
  "kernelspec": {
   "name": "python3",
   "display_name": "Python 3",
   "language": "python"
  }
 },
 "nbformat": 4,
 "nbformat_minor": 2,
 "cells": [
  {
   "cell_type": "code",
   "execution_count": 229,
   "metadata": {},
   "outputs": [
    {
     "output_type": "stream",
     "name": "stdout",
     "text": [
      "950\n"
     ]
    }
   ],
   "source": [
    "#1\n",
    "summa = 0 \n",
    "Teknik = {   \n",
    "    \"Tillämpad Programmering\": 100,\n",
    "    \"Programmering\": 100,\n",
    "    \"Webbutveckling\": 100,\n",
    "    \"Datateknik\": 100,\n",
    "    \"Engelska\": 100,\n",
    "    \"Svenska\": 100,\n",
    "    \"Matte\": 100,\n",
    "    \"Fysik\": 150,\n",
    "    \"Idrott\": 100\n",
    "}\n",
    "for key,values in Teknik.items():\n",
    "    summa += values\n",
    "print(summa)\n"
   ]
  },
  {
   "cell_type": "code",
   "execution_count": 42,
   "metadata": {},
   "outputs": [
    {
     "output_type": "stream",
     "name": "stdout",
     "text": [
      "{'1': 16580, '2': 16742, '3': 16765, '4': 16728, '5': 16484, '6': 16701}\n"
     ]
    }
   ],
   "source": [
    "#2 \n",
    "import random as rnd #importerar random för att kunna simulera random tärningskast.\n",
    "\n",
    "lista = { #skapar dictionary för 1,2,3... för o sedan räkna ut hur många av vilka som jag, antal 1:or osv.\n",
    "    \"1\":0,\n",
    "    \"2\":0,\n",
    "    \"3\":0,\n",
    "    \"4\":0,\n",
    "    \"5\":0,\n",
    "    \"6\":0\n",
    "}\n",
    "\n",
    "for i in range(100000): #skapar for satsen för o simulera 100tusen kast\n",
    "    kast = rnd.randint(1,6)  \n",
    "\n",
    "    if kast == 1: #för ifall det är 1 så kommer en lägga till en 1 i listan för 1.\n",
    "        lista[\"1\"] += 1\n",
    "    if kast == 2:\n",
    "        lista[\"2\"] += 1\n",
    "    if kast == 3:\n",
    "        lista[\"3\"] += 1\n",
    "    if kast == 4:\n",
    "        lista[\"4\"] += 1\n",
    "    if kast == 5:\n",
    "        lista[\"5\"] += 1\n",
    "    if kast == 6:\n",
    "        lista[\"6\"] += 1\n",
    "\n",
    "print(lista)"
   ]
  },
  {
   "cell_type": "code",
   "execution_count": 268,
   "metadata": {},
   "outputs": [],
   "source": [
    "#3   fick inte denna att riktigt funka\n",
    "with open(\"pokemonlista.txt\", \"a\") as f:\n",
    "    pokedex = {\n",
    "        \"gastly\":\"typ: spöke, gift, index: 92\",  #Detta är informationen om gastly\n",
    "        \"pikachu\":\"typ: elektrisk, index: 25\"\n",
    "        }\n",
    "\n",
    "    f.write(str(pokedex[\"gastly\"]+ \"\\n\"))#Detta printar ut Gastlys information i txt filen.\n",
    "    f.write(str(pokedex[\"pikachu\"]+ \"\\n\"))"
   ]
  },
  {
   "cell_type": "code",
   "execution_count": 2,
   "metadata": {},
   "outputs": [],
   "source": [
    "#4\n",
    "\n",
    "morsekod = { 'A':'.-', 'B':'-...',\n",
    "   'C':'-.-.', 'D':'-..', 'E':'.',\n",
    "   'F':'..-.', 'G':'--.', 'H':'....',\n",
    "   'I':'..', 'J':'.---', 'K':'-.-',\n",
    "   'L':'.-..', 'M':'--', 'N':'-.',\n",
    "   'O':'---', 'P':'.--.', 'Q':'--.-',\n",
    "   'R':'.-.', 'S':'...', 'T':'-',\n",
    "   'U':'..-', 'V':'...-', 'W':'.--',\n",
    "   'X':'-..-', 'Y':'-.--', 'Z':'--..',\n",
    "   'Å':'.--.-', 'Ä':'.-.-', 'Ö':'---'\n",
    "}\n",
    "\n",
    "\n",
    "def translatorn(medelande):\n",
    "    my_cipher = ' '\n",
    "    for letter in medelande:\n",
    "        if letter != ' ':\n",
    "            my_cipher += morsekod[letter] + ' '\n",
    "        else:\n",
    "            my_cipher += ' '\n",
    "        return my_cipher\n",
    "def kryptnering(medelande):\n",
    "    medelande += ' '\n",
    "    x = ''\n",
    "    y = ''\n",
    "    for letter in medelande: #detta letar efter mellanslag\n",
    "        if (letter != ' '):\n",
    "            i = 0\n",
    "            y += letter\n",
    "        else:\n",
    "            i += 1\n",
    "            if i == 2:\n",
    "                x += ' '\n",
    "            else:\n",
    "                x += list(morsekod.keys())[list(morsekod.values()).index(y)]\n",
    "    return x\n",
    "def main():\n",
    "    mitt_medelande = \"SOS\"\n",
    "    uttag = translatorn(mitt_medelande.upper)\n",
    "    print(uttag)\n",
    "    mitt_medelande = \"... --- ...\"\n",
    "    uttag = kryptnering(mitt_medelande)\n",
    "    print(uttag)\n",
    "if __name__ == '__name__':\n",
    "    main()"
   ]
  },
  {
   "cell_type": "code",
   "execution_count": 1,
   "metadata": {},
   "outputs": [],
   "source": []
  },
  {
   "cell_type": "code",
   "execution_count": null,
   "metadata": {},
   "outputs": [],
   "source": []
  }
 ]
}